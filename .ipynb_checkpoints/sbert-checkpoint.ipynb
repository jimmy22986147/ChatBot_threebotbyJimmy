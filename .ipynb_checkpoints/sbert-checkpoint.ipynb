{
 "cells": [
  {
   "cell_type": "code",
   "execution_count": null,
   "id": "d0c81a68",
   "metadata": {},
   "outputs": [],
   "source": [
    "# -*- coding: utf-8 -*-\n",
    "from sentence_transformers import models, SentenceTransformer\n",
    "import numpy as np\n",
    "import string\n",
    "model_name = 'imxly/sentence_roberta_wwm_ext'#'imxly/sentence_roberta_wwm_ext'#\n",
    "#model_name ='sentence-transformers/paraphrase-xlm-r-multilingual-v1'\n",
    "\n",
    "word_embedding_model = models.Transformer(model_name)\n",
    "pooling_model = models.Pooling(word_embedding_model.get_word_embedding_dimension(),\n",
    "                               pooling_mode_mean_tokens=True,\n",
    "                               pooling_mode_cls_token=False,\n",
    "                               pooling_mode_max_tokens=False)\n",
    "sbert_model = SentenceTransformer(modules=[word_embedding_model, pooling_model])\n",
    "\n",
    "def remove_punctuation(s): \n",
    "    punctuation = '''''？表情\\n!！()-[]{};:'\"\\,<>./[email protected]#$%^&*_~'''+ string.whitespace+ string.punctuation#'''''表情\\n!！()-[]{};:'\"\\,<>./[email protected]#$%^&*_~'''\n",
    "    #'''''\\n!()-[]{};:'\"\\,<>./[email protected]#$%^&*_~！（）－［］｛｝；：’＂＼，＜＞．／＃＄％︿＆＊＿～'''\n",
    "    my_str = s \n",
    "    no_punct = \"\" \n",
    "    for char in my_str: \n",
    "        if char not in punctuation: \n",
    "            no_punct += char \n",
    "    return(no_punct) \n",
    "\n",
    "def embedding(t, model=sbert_model):\n",
    "    \n",
    "    result = model.encode(t)\n",
    "    result = result / np.linalg.norm(result)\n",
    "\n",
    "    return result\n",
    "\n",
    "def cosine_s(v1, v2):\n",
    "    return v1.dot(v2)"
   ]
  },
  {
   "cell_type": "code",
   "execution_count": null,
   "id": "6062b99d",
   "metadata": {},
   "outputs": [],
   "source": [
    "FAQ_list = ['如何加入亚盈？', \n",
    "            '我可以直接在网络上存款吗？', \n",
    "            '我在哪里可以找到游戏的规则？', \n",
    "            '我可以只试玩而不下注吗？', \n",
    "            '你们的游戏会用多少副牌？', \n",
    "            '您们何时会洗牌？',\n",
    "            '我的注码的限制是多少？',\n",
    "            '如果忘记密码怎么办？', \n",
    "            '当你注册时出现，姓名已注册？',\n",
    "            '一定要填附言么？', \n",
    "            '是否要手动额度转换？',\n",
    "           '我想存款']"
   ]
  },
  {
   "cell_type": "code",
   "execution_count": null,
   "id": "a983a360",
   "metadata": {},
   "outputs": [],
   "source": [
    "FAQ_list = [remove_punctuation(j) for j in FAQ_list]\n",
    "faq_embeddings_list = [embedding(j) for j in FAQ_list]"
   ]
  },
  {
   "cell_type": "code",
   "execution_count": null,
   "id": "c804ec2f",
   "metadata": {},
   "outputs": [],
   "source": [
    "test = '我要入金'\n",
    "test = remove_punctuation(test)\n",
    "test_embedding = embedding(test) "
   ]
  },
  {
   "cell_type": "code",
   "execution_count": null,
   "id": "854746e8",
   "metadata": {},
   "outputs": [],
   "source": [
    "rr = [cosine_s(i, test_embedding) for i in faq_embeddings_list]\n",
    "print(rr)"
   ]
  },
  {
   "cell_type": "code",
   "execution_count": null,
   "id": "b753aad5",
   "metadata": {},
   "outputs": [],
   "source": []
  },
  {
   "cell_type": "code",
   "execution_count": null,
   "id": "aee6c921",
   "metadata": {},
   "outputs": [],
   "source": []
  }
 ],
 "metadata": {
  "kernelspec": {
   "display_name": "finlab",
   "language": "python",
   "name": "finlab"
  },
  "language_info": {
   "codemirror_mode": {
    "name": "ipython",
    "version": 3
   },
   "file_extension": ".py",
   "mimetype": "text/x-python",
   "name": "python",
   "nbconvert_exporter": "python",
   "pygments_lexer": "ipython3",
   "version": "3.7.11"
  }
 },
 "nbformat": 4,
 "nbformat_minor": 5
}
