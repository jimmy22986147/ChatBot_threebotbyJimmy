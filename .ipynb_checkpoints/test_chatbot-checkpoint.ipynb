{
 "cells": [
  {
   "cell_type": "code",
   "execution_count": null,
   "id": "2f8b88a1",
   "metadata": {},
   "outputs": [
    {
     "name": "stdout",
     "output_type": "stream",
     "text": [
      "importing Jupyter notebook from ChatBot.ipynb\n"
     ]
    },
    {
     "name": "stderr",
     "output_type": "stream",
     "text": [
      "Using TensorFlow backend.\n"
     ]
    }
   ],
   "source": [
    "import warnings  \n",
    "warnings.filterwarnings(\"ignore\")  \n",
    "import re\n",
    "import os\n",
    "import pickle\n",
    "import jieba\n",
    "from jieba import lcut\n",
    "import numpy as np\n",
    "import pandas as pd\n",
    "import sys\n",
    "import telepot\n",
    "import time\n",
    "import keyring\n",
    "from telepot.loop import MessageLoop\n",
    "from pprint import pprint\n",
    "import requests\n",
    "import import_ipynb\n",
    "os.chdir('C:/Users/user/Desktop/project/ChatBot_threebotbyJimmy')\n",
    "import ChatBot \n",
    "sys.path.append('C://Users//user//Desktop//project//trans//language//')\n",
    "import trans"
   ]
  },
  {
   "cell_type": "code",
   "execution_count": 2,
   "id": "c9fa870e",
   "metadata": {},
   "outputs": [],
   "source": [
    "token = '1818517680:AAEymDK1YP9DgOU3I2t5SoK49fNiAOcJQhA'\n",
    "bot = telepot.Bot(token)"
   ]
  },
  {
   "cell_type": "code",
   "execution_count": 3,
   "id": "ee17fba6",
   "metadata": {},
   "outputs": [
    {
     "name": "stderr",
     "output_type": "stream",
     "text": [
      "Building prefix dict from the default dictionary ...\n",
      "Loading model from cache C:\\Users\\user\\AppData\\Local\\Temp\\jieba.cache\n",
      "Loading model cost 0.466 seconds.\n",
      "Prefix dict has been built successfully.\n"
     ]
    },
    {
     "name": "stdout",
     "output_type": "stream",
     "text": [
      "1/1 [==============================] - 0s 54ms/step\n"
     ]
    },
    {
     "data": {
      "text/plain": [
       "'Boss您好,饮水得喇'"
      ]
     },
     "execution_count": 3,
     "metadata": {},
     "output_type": "execute_result"
    }
   ],
   "source": [
    "text = trans.tradition2simple('你好')\n",
    "return_text = ChatBot.Chat_Bot(text )  \n",
    "return_text"
   ]
  },
  {
   "cell_type": "code",
   "execution_count": null,
   "id": "b4895417",
   "metadata": {},
   "outputs": [],
   "source": [
    "def handle(msg):\n",
    "    pprint(msg)\n",
    "    chat_id = msg['chat']['id']\n",
    "    user = msg['from']['first_name']\n",
    "    text = msg['text']\n",
    "    text = trans.tradition2simple(text)\n",
    "    return_text = ChatBot.Chat_Bot(text )    \n",
    "    bot.sendMessage(chat_id, return_text)\n",
    "    \n",
    "    \n",
    "    \n",
    "MessageLoop(bot, handle).run_as_thread()\n",
    "print(\"I'm listening...\")\n",
    "\n",
    "while True:\n",
    "    time.sleep(0.1)"
   ]
  }
 ],
 "metadata": {
  "kernelspec": {
   "display_name": "finlab",
   "language": "python",
   "name": "finlab"
  },
  "language_info": {
   "codemirror_mode": {
    "name": "ipython",
    "version": 3
   },
   "file_extension": ".py",
   "mimetype": "text/x-python",
   "name": "python",
   "nbconvert_exporter": "python",
   "pygments_lexer": "ipython3",
   "version": "3.7.11"
  }
 },
 "nbformat": 4,
 "nbformat_minor": 5
}
