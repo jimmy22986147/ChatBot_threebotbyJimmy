{
 "cells": [
  {
   "cell_type": "code",
   "execution_count": 1,
   "metadata": {},
   "outputs": [],
   "source": [
    "import time\n",
    "import numpy as np\n",
    "import string\n",
    "\n",
    "#sklearn\n",
    "from sklearn.metrics.pairwise import cosine_similarity\n",
    "\n",
    "#bert\n",
    "from sentence_transformers import SentenceTransformer"
   ]
  },
  {
   "cell_type": "markdown",
   "metadata": {},
   "source": [
    "# FAQ Bot"
   ]
  },
  {
   "cell_type": "code",
   "execution_count": 2,
   "metadata": {},
   "outputs": [],
   "source": [
    "FAQ_list = ['如何加入亚盈？', \n",
    "            '我可以直接在网络上存款吗？', \n",
    "            '我在哪里可以找到游戏的规则？', \n",
    "            '我可以只试玩而不下注吗？', \n",
    "            '你们的游戏会用多少副牌？', \n",
    "            '您们何时会洗牌？',\n",
    "            '我的注码的限制是多少？',\n",
    "            '如果忘记密码怎么办？', \n",
    "            '当你注册时出现，姓名已注册？',\n",
    "            '一定要填附言么？', \n",
    "            '是否要手动额度转换？']\n",
    "FAQ_Answer = ['您好， 您可以直接点选 注册，确实填写数据后，可立即登记成为亚盈会员。',\n",
    "              '您好，可以，亚盈提供多种在线存款选择，详情请参照 存款帮助。',\n",
    "              '您好，在未登入前，您可以在游戏的最外层看到\"游戏规则\"选项，清楚告诉您游戏的玩法、规则及派彩 方式。 在游戏窗口中，也有\"规则\"选项，让您在享受游戏乐趣的同时，可以弹跳窗口随时提醒您游戏规则。',\\\n",
    "              '您好，可以，我们诚挚邀请您观摩我们的游戏。只需注册一个会员账号，登陆后即可查看所有的游戏。',\n",
    "              '您好，在百家乐我们会用8副牌，其他游戏则会根据其性质有所调整。',\n",
    "              '您好，所有纸牌游戏，当红的洗牌记号出现或游戏因线路问题中断时便会进行重新洗牌。',\n",
    "              '您好，从最低注单 10(视讯) 元人民币以上即可投注， 您的注码会根据您的存款有所不同，以及您挑选的游戏不同而有所区别。',\n",
    "              '您好，您可以联系24小时在线客服人员咨询协助取回您的账号密码。',\n",
    "              '您好，您可通过24小时在线客服人员协助处理。',\n",
    "              '在您通过转账时，请一定要在备注/附言/等处填写附言编码，否则无法自动到账。',\n",
    "              '亚盈开启全自动额度转换模式，只需直接进入游戏额度会自动转换，无需人工转换。']"
   ]
  },
  {
   "cell_type": "code",
   "execution_count": 3,
   "metadata": {},
   "outputs": [],
   "source": [
    "import pandas as pd\n",
    "temp = pd.DataFrame({'question':FAQ_list, 'answer':FAQ_Answer})"
   ]
  },
  {
   "cell_type": "code",
   "execution_count": 4,
   "metadata": {},
   "outputs": [],
   "source": [
    "#temp.to_csv('C://Users//user//Desktop//faq.csv')\n",
    "\n",
    "# Create a Pandas Excel writer using XlsxWriter as the engine.\n",
    "writer = pd.ExcelWriter('C://Users//admin//Desktop//faq.xlsx', engine='xlsxwriter')\n",
    "\n",
    "# Convert the dataframe to an XlsxWriter Excel object.\n",
    "temp.to_excel(writer, sheet_name='Sheet1')\n",
    "\n",
    "writer.save()"
   ]
  },
  {
   "cell_type": "code",
   "execution_count": 4,
   "metadata": {},
   "outputs": [],
   "source": [
    "def remove_punctuation(s): \n",
    "    punctuation = '''''？表情\\n!！()-[]{};:'\"\\,<>./[email protected]#$%^&*_~'''+ string.whitespace+ string.punctuation#'''''表情\\n!！()-[]{};:'\"\\,<>./[email protected]#$%^&*_~'''\n",
    "    #'''''\\n!()-[]{};:'\"\\,<>./[email protected]#$%^&*_~！（）－［］｛｝；：’＂＼，＜＞．／＃＄％︿＆＊＿～'''\n",
    "    my_str = s \n",
    "    no_punct = \"\" \n",
    "    for char in my_str: \n",
    "        if char not in punctuation: \n",
    "            no_punct += char \n",
    "    return(no_punct) \n",
    "\n",
    "def FAQ_BOT(customer_question, sentence_embeddings, answer, model, threshold, control):\n",
    "    test_embeddings = model.encode(customer_question)\n",
    "    similarity = cosine_similarity([test_embeddings], \n",
    "                                   sentence_embeddings)\n",
    "    max_cos_similar = np.max(similarity)\n",
    "    probsarg = [x for x in similarity.argsort()[0][-4:][::-1] ] \n",
    "    top4_similarty = [similarity[0][j] for j in probsarg]\n",
    "    \n",
    "    possibe_question = [FAQ_list[j] for j in probsarg]    \n",
    "    most_likely_question = possibe_question[0]\n",
    "    possibe_question = possibe_question[1:]\n",
    "   \n",
    "    if max_cos_similar >= threshold:\n",
    "        max_idx = np.argmax(similarity)\n",
    "        most_likely_ans = answer[max_idx]\n",
    "        res = 1\n",
    "    else:\n",
    "        most_likely_ans = '这不在FAQ中'\n",
    "        res = 0\n",
    "    if control == 'jy_test':\n",
    "        return most_likely_ans, res, most_likely_question, possibe_question, top4_similarty    \n",
    "    elif control == 'prod':\n",
    "        return most_likely_ans, res"
   ]
  },
  {
   "cell_type": "code",
   "execution_count": 5,
   "metadata": {},
   "outputs": [
    {
     "data": {
      "application/vnd.jupyter.widget-view+json": {
       "model_id": "d5a77231637f44c0a87bce1c5ad232ff",
       "version_major": 2,
       "version_minor": 0
      },
      "text/plain": [
       "HBox(children=(IntProgress(value=0, max=1313952051), HTML(value='')))"
      ]
     },
     "metadata": {},
     "output_type": "display_data"
    },
    {
     "name": "stdout",
     "output_type": "stream",
     "text": [
      "\n"
     ]
    }
   ],
   "source": [
    "FAQ_model = SentenceTransformer('roberta-large-nli-stsb-mean-tokens')\n",
    "FAQ_list = [remove_punctuation(j) for j in FAQ_list]\n",
    "faq_embeddings = FAQ_model.encode(FAQ_list)"
   ]
  },
  {
   "cell_type": "code",
   "execution_count": null,
   "metadata": {},
   "outputs": [],
   "source": [
    "#s = time.time()\n",
    "#FAQ_BOT('一定要填附言?', faq_embeddings, FAQ_Answer, FAQ_model, threshold=0.8, control='jy_test')\n",
    "#print(time.time()-s)"
   ]
  }
 ],
 "metadata": {
  "kernelspec": {
   "display_name": "finlab",
   "language": "python",
   "name": "finlab"
  },
  "language_info": {
   "codemirror_mode": {
    "name": "ipython",
    "version": 3
   },
   "file_extension": ".py",
   "mimetype": "text/x-python",
   "name": "python",
   "nbconvert_exporter": "python",
   "pygments_lexer": "ipython3",
   "version": "3.7.11"
  }
 },
 "nbformat": 4,
 "nbformat_minor": 4
}
